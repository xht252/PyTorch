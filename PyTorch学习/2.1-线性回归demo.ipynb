{
 "cells": [
  {
   "cell_type": "markdown",
   "id": "8cf21a94",
   "metadata": {},
   "source": [
    "### 线性回归(以y=2x+1为例)"
   ]
  },
  {
   "cell_type": "code",
   "execution_count": 8,
   "id": "a87d3fa3",
   "metadata": {},
   "outputs": [],
   "source": [
    "import numpy as np\n",
    "import torch\n",
    "import torch.nn as nn"
   ]
  },
  {
   "cell_type": "markdown",
   "id": "0372d588",
   "metadata": {},
   "source": [
    "生成x向量"
   ]
  },
  {
   "cell_type": "code",
   "execution_count": 11,
   "id": "f8449e0d",
   "metadata": {},
   "outputs": [
    {
     "name": "stdout",
     "output_type": "stream",
     "text": [
      "[0, 1, 2, 3, 4, 5, 6, 7, 8, 9, 10]\n",
      "[[ 0.]\n",
      " [ 1.]\n",
      " [ 2.]\n",
      " [ 3.]\n",
      " [ 4.]\n",
      " [ 5.]\n",
      " [ 6.]\n",
      " [ 7.]\n",
      " [ 8.]\n",
      " [ 9.]\n",
      " [10.]]\n",
      "(11, 1)\n"
     ]
    }
   ],
   "source": [
    "x = [i for i in range(11)]\n",
    "x_train = np.array(x , dtype = np.float32)\n",
    "x_train = x_train.reshape(-1 , 1)\n",
    "print(x)\n",
    "print(x_train)\n",
    "print(x_train.shape)"
   ]
  },
  {
   "cell_type": "markdown",
   "id": "6c2c402c",
   "metadata": {},
   "source": [
    "生成y向量"
   ]
  },
  {
   "cell_type": "code",
   "execution_count": 12,
   "id": "59767f9d",
   "metadata": {},
   "outputs": [
    {
     "name": "stdout",
     "output_type": "stream",
     "text": [
      "[1, 3, 5, 7, 9, 11, 13, 15, 17, 19, 21]\n",
      "[[ 1.]\n",
      " [ 3.]\n",
      " [ 5.]\n",
      " [ 7.]\n",
      " [ 9.]\n",
      " [11.]\n",
      " [13.]\n",
      " [15.]\n",
      " [17.]\n",
      " [19.]\n",
      " [21.]]\n",
      "(11, 1)\n"
     ]
    }
   ],
   "source": [
    "y = [2 * i + 1 for i in range(11)]\n",
    "y_train = np.array(y , dtype = np.float32)\n",
    "y_train = y_train.reshape(-1 , 1)\n",
    "print(y)\n",
    "print(y_train)\n",
    "print(y_train.shape)"
   ]
  },
  {
   "cell_type": "markdown",
   "id": "0d6355c3",
   "metadata": {},
   "source": [
    "### 线性回归模型\n",
    "- 线性回归就是不加激活函数的全连接层 "
   ]
  },
  {
   "cell_type": "code",
   "execution_count": 13,
   "id": "2f4cd600",
   "metadata": {},
   "outputs": [],
   "source": [
    "# 建立线性回归模型\n",
    "class LinearRegressionModel(nn.Module):\n",
    "    def __init__(self, input_dim, output_dim):\n",
    "        super(LinearRegressionModel , self).__init__()\n",
    "        self.linear = nn.Linear(input_dim, output_dim)\n",
    "    \n",
    "    # 前向传播\n",
    "    def forward(self , x):\n",
    "        return self.linear(x)"
   ]
  },
  {
   "cell_type": "code",
   "execution_count": 19,
   "id": "115cad20",
   "metadata": {},
   "outputs": [
    {
     "data": {
      "text/plain": [
       "LinearRegressionModel(\n",
       "  (linear): Linear(in_features=1, out_features=1, bias=True)\n",
       ")"
      ]
     },
     "execution_count": 19,
     "metadata": {},
     "output_type": "execute_result"
    }
   ],
   "source": [
    "input_dim = 1\n",
    "output_dim = 1\n",
    "model = LinearRegressionModel(input_dim , output_dim)\n",
    "model"
   ]
  },
  {
   "cell_type": "markdown",
   "id": "4f90c116",
   "metadata": {},
   "source": [
    "指定参数和损失函数"
   ]
  },
  {
   "cell_type": "code",
   "execution_count": 20,
   "id": "219fd457",
   "metadata": {},
   "outputs": [],
   "source": [
    "epochs = 1000 # 迭代1000次\n",
    "learning_rate = 0.01 # 学习率0.01\n",
    "\n",
    "# 优化器SGD\n",
    "optimizer = torch.optim.SGD(model.parameters(), lr = learning_rate)\n",
    "\n",
    "# 输入x和输出y的均方标准差\n",
    "criterion = nn.MSELoss()"
   ]
  },
  {
   "cell_type": "markdown",
   "id": "dc5fd03c",
   "metadata": {},
   "source": [
    "训练模型"
   ]
  },
  {
   "cell_type": "code",
   "execution_count": 21,
   "id": "56d4067a",
   "metadata": {},
   "outputs": [
    {
     "name": "stdout",
     "output_type": "stream",
     "text": [
      "epoch：50 , loss：0.178928405046463\n",
      "epoch：100 , loss：0.10205411165952682\n",
      "epoch：150 , loss：0.058207955211400986\n",
      "epoch：200 , loss：0.03319957107305527\n",
      "epoch：250 , loss：0.01893576607108116\n",
      "epoch：300 , loss：0.01080025639384985\n",
      "epoch：350 , loss：0.006160068325698376\n",
      "epoch：400 , loss：0.0035134630743414164\n",
      "epoch：450 , loss：0.002003949601203203\n",
      "epoch：500 , loss：0.0011429685400798917\n",
      "epoch：550 , loss：0.0006518939044326544\n",
      "epoch：600 , loss：0.0003718256775755435\n",
      "epoch：650 , loss：0.00021207220561336726\n",
      "epoch：700 , loss：0.00012095653801225126\n",
      "epoch：750 , loss：6.898951687617227e-05\n",
      "epoch：800 , loss：3.935064160032198e-05\n",
      "epoch：850 , loss：2.2443535272032022e-05\n",
      "epoch：900 , loss：1.2801246157323476e-05\n",
      "epoch：950 , loss：7.301435289264191e-06\n",
      "epoch：1000 , loss：4.164826350461226e-06\n"
     ]
    }
   ],
   "source": [
    "for epoch in range(epochs):\n",
    "    epoch += 1\n",
    "    # 将array转为tensor格式\n",
    "    inputs = torch.from_numpy(x_train)\n",
    "    labels = torch.from_numpy(y_train)\n",
    "    \n",
    "    # 梯度要清零\n",
    "    optimizer.zero_grad()\n",
    "    \n",
    "    # 正向传播\n",
    "    outputs = model(inputs)\n",
    "    \n",
    "    # 计算损失\n",
    "    loss = criterion(outputs, labels)\n",
    "    \n",
    "    # 反向传播\n",
    "    loss.backward()\n",
    "    \n",
    "    # 更新权重数值\n",
    "    optimizer.step()\n",
    "    if epoch % 50 == 0:\n",
    "        print(f'epoch：{epoch} , loss：{loss.item()}')"
   ]
  },
  {
   "cell_type": "markdown",
   "id": "2acf2779",
   "metadata": {},
   "source": [
    "### 测试结果"
   ]
  },
  {
   "cell_type": "code",
   "execution_count": 22,
   "id": "266b2bc3",
   "metadata": {},
   "outputs": [
    {
     "data": {
      "text/plain": [
       "array([[ 0.99620396],\n",
       "       [ 2.9967506 ],\n",
       "       [ 4.9972973 ],\n",
       "       [ 6.997844  ],\n",
       "       [ 8.998391  ],\n",
       "       [10.998938  ],\n",
       "       [12.999485  ],\n",
       "       [15.000031  ],\n",
       "       [17.000578  ],\n",
       "       [19.001125  ],\n",
       "       [21.00167   ]], dtype=float32)"
      ]
     },
     "execution_count": 22,
     "metadata": {},
     "output_type": "execute_result"
    }
   ],
   "source": [
    "res = model(torch.from_numpy(x_train).requires_grad_()).data.numpy()\n",
    "res"
   ]
  },
  {
   "cell_type": "code",
   "execution_count": 23,
   "id": "fbd40362",
   "metadata": {},
   "outputs": [],
   "source": [
    "# 读取\n",
    "torch.save(model.state_dict() , 'autograd.pkl')"
   ]
  },
  {
   "cell_type": "code",
   "execution_count": 24,
   "id": "b2f12ebd",
   "metadata": {},
   "outputs": [
    {
     "data": {
      "text/plain": [
       "<All keys matched successfully>"
      ]
     },
     "execution_count": 24,
     "metadata": {},
     "output_type": "execute_result"
    }
   ],
   "source": [
    "model.load_state_dict(torch.load('autograd.pkl'))"
   ]
  },
  {
   "cell_type": "markdown",
   "id": "3726ee56",
   "metadata": {},
   "source": [
    "### 使用GPU进行训练\n",
    "- 将数据和模型传入cuda进行运行"
   ]
  },
  {
   "cell_type": "code",
   "execution_count": null,
   "id": "8bda0b00",
   "metadata": {},
   "outputs": [],
   "source": [
    "device = torch.device(\"cuda:0\" if torch.cuda.is_available() else \"cpu\")\n",
    "model.to(device)\n",
    "\n",
    "# 将array转为tensor格式\n",
    "inputs = torch.from_numpy(x_train).to(device)\n",
    "labels = torch.from_numpy(y_train).to(device)"
   ]
  }
 ],
 "metadata": {
  "kernelspec": {
   "display_name": "Python 3 (ipykernel)",
   "language": "python",
   "name": "python3"
  },
  "language_info": {
   "codemirror_mode": {
    "name": "ipython",
    "version": 3
   },
   "file_extension": ".py",
   "mimetype": "text/x-python",
   "name": "python",
   "nbconvert_exporter": "python",
   "pygments_lexer": "ipython3",
   "version": "3.11.4"
  }
 },
 "nbformat": 4,
 "nbformat_minor": 5
}
