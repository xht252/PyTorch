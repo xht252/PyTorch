{
 "cells": [
  {
   "cell_type": "code",
   "execution_count": 2,
   "id": "a397860b",
   "metadata": {},
   "outputs": [],
   "source": [
    "import torch"
   ]
  },
  {
   "cell_type": "markdown",
   "id": "ccdef8cc",
   "metadata": {},
   "source": [
    "### 基本用法"
   ]
  },
  {
   "cell_type": "markdown",
   "id": "ac22cd78",
   "metadata": {},
   "source": [
    "使用empty生成五行三列的矩阵"
   ]
  },
  {
   "cell_type": "code",
   "execution_count": 3,
   "id": "8bd11a0c",
   "metadata": {},
   "outputs": [
    {
     "data": {
      "text/plain": [
       "tensor([[8.4490e-39, 1.0469e-38, 9.3674e-39],\n",
       "        [9.9184e-39, 8.7245e-39, 9.2755e-39],\n",
       "        [8.9082e-39, 9.9184e-39, 8.4490e-39],\n",
       "        [9.6429e-39, 1.0653e-38, 1.0469e-38],\n",
       "        [4.2246e-39, 1.0378e-38, 9.6429e-39]])"
      ]
     },
     "execution_count": 3,
     "metadata": {},
     "output_type": "execute_result"
    }
   ],
   "source": [
    "x = torch.empty(5 , 3)\n",
    "x"
   ]
  },
  {
   "cell_type": "code",
   "execution_count": 5,
   "id": "41afb9ec",
   "metadata": {},
   "outputs": [
    {
     "data": {
      "text/plain": [
       "tensor([[0.3269, 0.2083, 0.4061],\n",
       "        [0.5898, 0.9194, 0.1332],\n",
       "        [0.1177, 0.7873, 0.3092],\n",
       "        [0.0059, 0.3353, 0.4659],\n",
       "        [0.0752, 0.1463, 0.2398]])"
      ]
     },
     "execution_count": 5,
     "metadata": {},
     "output_type": "execute_result"
    }
   ],
   "source": [
    "x = torch.rand(5 , 3)\n",
    "x"
   ]
  },
  {
   "cell_type": "markdown",
   "id": "db99a805",
   "metadata": {},
   "source": [
    "##### PyTorch处理的矩阵是tensor格式"
   ]
  },
  {
   "cell_type": "markdown",
   "id": "e3bf0d9a",
   "metadata": {},
   "source": [
    "生成全零矩阵"
   ]
  },
  {
   "cell_type": "code",
   "execution_count": 7,
   "id": "b125fd00",
   "metadata": {},
   "outputs": [
    {
     "data": {
      "text/plain": [
       "tensor([[0, 0, 0],\n",
       "        [0, 0, 0],\n",
       "        [0, 0, 0],\n",
       "        [0, 0, 0],\n",
       "        [0, 0, 0]])"
      ]
     },
     "execution_count": 7,
     "metadata": {},
     "output_type": "execute_result"
    }
   ],
   "source": [
    "x = torch.zeros(5 , 3 , dtype=torch.long)\n",
    "x"
   ]
  },
  {
   "cell_type": "markdown",
   "id": "8c47611a",
   "metadata": {},
   "source": [
    "### 输出矩阵大小"
   ]
  },
  {
   "cell_type": "code",
   "execution_count": 9,
   "id": "fad04c24",
   "metadata": {},
   "outputs": [
    {
     "data": {
      "text/plain": [
       "torch.Size([5, 3])"
      ]
     },
     "execution_count": 9,
     "metadata": {},
     "output_type": "execute_result"
    }
   ],
   "source": [
    "x.size()"
   ]
  },
  {
   "cell_type": "markdown",
   "id": "ac13367a",
   "metadata": {},
   "source": [
    "### view函数改变矩阵维度"
   ]
  },
  {
   "cell_type": "code",
   "execution_count": 10,
   "id": "8c06c073",
   "metadata": {},
   "outputs": [
    {
     "name": "stdout",
     "output_type": "stream",
     "text": [
      "torch.Size([4, 4]) torch.Size([16]) torch.Size([2, 8])\n"
     ]
    }
   ],
   "source": [
    "x = torch.randn(4, 4) # 四行四列的矩阵\n",
    "y = x.view(16) # 变为一个维度的向量\n",
    "z = x.view(-1, 8) # 自动计算行数，给定列数为8列\n",
    "print(x.size() , y.size() , z.size())"
   ]
  },
  {
   "cell_type": "markdown",
   "id": "4bb76c78",
   "metadata": {},
   "source": [
    "### 与Numpy协同操作"
   ]
  },
  {
   "cell_type": "code",
   "execution_count": 11,
   "id": "e4533b98",
   "metadata": {},
   "outputs": [
    {
     "data": {
      "text/plain": [
       "array([1., 1., 1., 1., 1.], dtype=float32)"
      ]
     },
     "execution_count": 11,
     "metadata": {},
     "output_type": "execute_result"
    }
   ],
   "source": [
    "a = torch.ones(5)\n",
    "b = a.numpy()\n",
    "b"
   ]
  }
 ],
 "metadata": {
  "kernelspec": {
   "display_name": "Python 3 (ipykernel)",
   "language": "python",
   "name": "python3"
  },
  "language_info": {
   "codemirror_mode": {
    "name": "ipython",
    "version": 3
   },
   "file_extension": ".py",
   "mimetype": "text/x-python",
   "name": "python",
   "nbconvert_exporter": "python",
   "pygments_lexer": "ipython3",
   "version": "3.11.4"
  }
 },
 "nbformat": 4,
 "nbformat_minor": 5
}
